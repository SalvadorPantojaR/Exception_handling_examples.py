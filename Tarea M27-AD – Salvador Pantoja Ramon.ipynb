{
 "cells": [
  {
   "cell_type": "code",
   "execution_count": 1,
   "metadata": {},
   "outputs": [
    {
     "name": "stdout",
     "output_type": "stream",
     "text": [
      "Error: [Errno 2] No such file or directory: 'test.txt'\n",
      "El archivo 'test.txt' no se encontró en el directorio.\n",
      "Fin del bloque TRY/EXCEPT\n"
     ]
    }
   ],
   "source": [
    "import os\n",
    "\n",
    "try:\n",
    "    with open(\"test.txt\", \"r\") as file:\n",
    "        content = file.read()\n",
    "except FileNotFoundError as x:\n",
    "    print(f\"Error: {x}\")\n",
    "    print(\"El archivo 'test.txt' no se encontró en el directorio.\")\n",
    "except Exception as x:\n",
    "    print(f\"Ocurrió un error inesperado: {x}\")\n",
    "else:\n",
    "    print(\"Archivo leído exitosamente.\")\n",
    "finally:\n",
    "    print(\"Fin del bloque TRY/EXCEPT\")"
   ]
  },
  {
   "cell_type": "code",
   "execution_count": 2,
   "metadata": {},
   "outputs": [
    {
     "name": "stdout",
     "output_type": "stream",
     "text": [
      "Error: El número no puede ser negativo\n"
     ]
    }
   ],
   "source": [
    "def verificar_numero_positivo(num):\n",
    "    if num < 0:\n",
    "        raise ValueError(\"El número no puede ser negativo\")\n",
    "    return num\n",
    "\n",
    "try:\n",
    "    print(verificar_numero_positivo(-5))\n",
    "except ValueError as x:\n",
    "    print(f\"Error: {x}\")"
   ]
  },
  {
   "cell_type": "code",
   "execution_count": 3,
   "metadata": {},
   "outputs": [
    {
     "name": "stdout",
     "output_type": "stream",
     "text": [
      "Error de aserción: El divisor no puede ser cero\n"
     ]
    }
   ],
   "source": [
    "def dividir(a, b):\n",
    "    assert b != 0, \"El divisor no puede ser cero\"\n",
    "    return a / b\n",
    "\n",
    "try:\n",
    "    resultado = dividir(10, 0)\n",
    "    print(resultado)\n",
    "except AssertionError as x:\n",
    "    print(f\"Error de aserción: {x}\")"
   ]
  },
  {
   "cell_type": "code",
   "execution_count": 6,
   "metadata": {},
   "outputs": [
    {
     "name": "stdout",
     "output_type": "stream",
     "text": [
      "Error: división entre cero\n"
     ]
    }
   ],
   "source": [
    "a = 10\n",
    "b = 5\n",
    "c = 0\n",
    "\n",
    "try:\n",
    "    debug_resultado = (a + b + 5) / c\n",
    "    print(debug_resultado)\n",
    "except ZeroDivisionError:\n",
    "    print(\"Error: división entre cero\")\n"
   ]
  }
 ],
 "metadata": {
  "kernelspec": {
   "display_name": "Python 3",
   "language": "python",
   "name": "python3"
  },
  "language_info": {
   "codemirror_mode": {
    "name": "ipython",
    "version": 3
   },
   "file_extension": ".py",
   "mimetype": "text/x-python",
   "name": "python",
   "nbconvert_exporter": "python",
   "pygments_lexer": "ipython3",
   "version": "3.13.1"
  }
 },
 "nbformat": 4,
 "nbformat_minor": 2
}
